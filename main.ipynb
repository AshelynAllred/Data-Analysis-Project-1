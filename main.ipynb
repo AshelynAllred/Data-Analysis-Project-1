{
 "cells": [
  {
   "cell_type": "code",
   "execution_count": 4,
   "metadata": {},
   "outputs": [
    {
     "ename": "ImportError",
     "evalue": "cannot import name 'bls_api_key' from 'config' (/Users/ashelynallred/Documents/Git Repos/Data-Analysis-Project-1/config.py)",
     "output_type": "error",
     "traceback": [
      "\u001b[0;31m---------------------------------------------------------------------------\u001b[0m",
      "\u001b[0;31mImportError\u001b[0m                               Traceback (most recent call last)",
      "\u001b[1;32m/Users/ashelynallred/Documents/Git Repos/Data-Analysis-Project-1/main.ipynb Cell 1\u001b[0m line \u001b[0;36m1\n\u001b[1;32m      <a href='vscode-notebook-cell:/Users/ashelynallred/Documents/Git%20Repos/Data-Analysis-Project-1/main.ipynb#W0sZmlsZQ%3D%3D?line=5'>6</a>\u001b[0m \u001b[39mimport\u001b[39;00m \u001b[39mrequests\u001b[39;00m \u001b[39mas\u001b[39;00m \u001b[39mrq\u001b[39;00m\n\u001b[1;32m      <a href='vscode-notebook-cell:/Users/ashelynallred/Documents/Git%20Repos/Data-Analysis-Project-1/main.ipynb#W0sZmlsZQ%3D%3D?line=7'>8</a>\u001b[0m \u001b[39m# Add a config.py file and add a line that says \u001b[39;00m\n\u001b[1;32m      <a href='vscode-notebook-cell:/Users/ashelynallred/Documents/Git%20Repos/Data-Analysis-Project-1/main.ipynb#W0sZmlsZQ%3D%3D?line=8'>9</a>\u001b[0m \u001b[39m# bls_api_key = \"your key here\"\u001b[39;00m\n\u001b[1;32m     <a href='vscode-notebook-cell:/Users/ashelynallred/Documents/Git%20Repos/Data-Analysis-Project-1/main.ipynb#W0sZmlsZQ%3D%3D?line=9'>10</a>\u001b[0m \u001b[39m# ita_api_key = \"your key here\"\u001b[39;00m\n\u001b[1;32m     <a href='vscode-notebook-cell:/Users/ashelynallred/Documents/Git%20Repos/Data-Analysis-Project-1/main.ipynb#W0sZmlsZQ%3D%3D?line=10'>11</a>\u001b[0m \u001b[39m# replace \"your key here with your BLS api key\"\u001b[39;00m\n\u001b[0;32m---> <a href='vscode-notebook-cell:/Users/ashelynallred/Documents/Git%20Repos/Data-Analysis-Project-1/main.ipynb#W0sZmlsZQ%3D%3D?line=11'>12</a>\u001b[0m \u001b[39mfrom\u001b[39;00m \u001b[39mconfig\u001b[39;00m \u001b[39mimport\u001b[39;00m bls_api_key\n",
      "\u001b[0;31mImportError\u001b[0m: cannot import name 'bls_api_key' from 'config' (/Users/ashelynallred/Documents/Git Repos/Data-Analysis-Project-1/config.py)"
     ]
    }
   ],
   "source": [
    "# Imports:\n",
    "import pandas as pd\n",
    "import matplotlib.pyplot as plt\n",
    "import pprint, json\n",
    "import scipy.stats as st\n",
    "import requests as rq\n",
    "\n",
    "# Add a config.py file and add a line that says \n",
    "# bls_api_key = \"your key here\"\n",
    "# ita_api_key = \"your key here\"\n",
    "# replace \"your key here with your BLS api key\"\n",
    "from config import bls_api_key\n",
    "\n"
   ]
  },
  {
   "cell_type": "code",
   "execution_count": 2,
   "metadata": {},
   "outputs": [
    {
     "data": {
      "text/plain": [
       "'YOUR KEY WITH QUOTES'"
      ]
     },
     "execution_count": 2,
     "metadata": {},
     "output_type": "execute_result"
    }
   ],
   "source": [
    "api_key"
   ]
  },
  {
   "cell_type": "code",
   "execution_count": null,
   "metadata": {},
   "outputs": [],
   "source": []
  }
 ],
 "metadata": {
  "kernelspec": {
   "display_name": "base",
   "language": "python",
   "name": "python3"
  },
  "language_info": {
   "codemirror_mode": {
    "name": "ipython",
    "version": 3
   },
   "file_extension": ".py",
   "mimetype": "text/x-python",
   "name": "python",
   "nbconvert_exporter": "python",
   "pygments_lexer": "ipython3",
   "version": "3.11.5"
  }
 },
 "nbformat": 4,
 "nbformat_minor": 2
}
