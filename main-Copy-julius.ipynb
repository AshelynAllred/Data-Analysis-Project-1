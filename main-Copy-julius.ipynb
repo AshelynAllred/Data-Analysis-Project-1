{
 "cells": [
  {
   "cell_type": "markdown",
   "metadata": {},
   "source": [
    "# Remote Work vs Travel Data"
   ]
  },
  {
   "cell_type": "code",
   "execution_count": 1,
   "metadata": {},
   "outputs": [],
   "source": [
    "# Imports:\n",
    "import pprint, json, csv, os.path as path\n",
    "import pandas as pd\n",
    "import matplotlib.pyplot as plt\n",
    "import scipy.stats as st\n",
    "import requests as rq\n",
    "from pathlib import Path\n",
    "# Add a config.py file and add a line that says \n",
    "# api_key = 'YOUR KEY HERE'\n",
    "# replace \"your key here\" with your Geoapify api key\n",
    "#from config import api_key\n"
   ]
  },
  {
   "cell_type": "code",
   "execution_count": null,
   "metadata": {},
   "outputs": [],
   "source": [
    "url = ''\n",
    "\n",
    "# this does not work, trying sample code\n",
    "# outp = rq.post(bls_url).json()\n",
    "\n",
    "# pprint(outp)"
   ]
  },
  {
   "cell_type": "code",
   "execution_count": 2,
   "metadata": {},
   "outputs": [],
   "source": [
    "data = path.join(\"Resources/LAPD_Crimes_Filtered_2022.csv\")\n",
    "crime_data = pd.read_csv(data, sep=\"\\t\")"
   ]
  },
  {
   "cell_type": "code",
   "execution_count": 26,
   "metadata": {
    "scrolled": true
   },
   "outputs": [
    {
     "data": {
      "text/html": [
       "<div>\n",
       "<style scoped>\n",
       "    .dataframe tbody tr th:only-of-type {\n",
       "        vertical-align: middle;\n",
       "    }\n",
       "\n",
       "    .dataframe tbody tr th {\n",
       "        vertical-align: top;\n",
       "    }\n",
       "\n",
       "    .dataframe thead th {\n",
       "        text-align: right;\n",
       "    }\n",
       "</style>\n",
       "<table border=\"1\" class=\"dataframe\">\n",
       "  <thead>\n",
       "    <tr style=\"text-align: right;\">\n",
       "      <th></th>\n",
       "      <th>DR_NO</th>\n",
       "      <th>Date Rptd</th>\n",
       "      <th>DATE OCC</th>\n",
       "      <th>TIME OCC</th>\n",
       "      <th>AREA</th>\n",
       "      <th>AREA NAME</th>\n",
       "      <th>Rpt Dist No</th>\n",
       "      <th>Part 1-2</th>\n",
       "      <th>Crm Cd</th>\n",
       "      <th>Crm Cd Desc</th>\n",
       "      <th>...</th>\n",
       "      <th>Status</th>\n",
       "      <th>Status Desc</th>\n",
       "      <th>Crm Cd 1</th>\n",
       "      <th>Crm Cd 2</th>\n",
       "      <th>Crm Cd 3</th>\n",
       "      <th>Crm Cd 4</th>\n",
       "      <th>LOCATION</th>\n",
       "      <th>Cross Street</th>\n",
       "      <th>LAT</th>\n",
       "      <th>LON</th>\n",
       "    </tr>\n",
       "  </thead>\n",
       "  <tbody>\n",
       "    <tr>\n",
       "      <th>0</th>\n",
       "      <td>220216262</td>\n",
       "      <td>9/8/22 0:00</td>\n",
       "      <td>2022-09-08</td>\n",
       "      <td>1445</td>\n",
       "      <td>2</td>\n",
       "      <td>Rampart</td>\n",
       "      <td>275</td>\n",
       "      <td>2</td>\n",
       "      <td>624</td>\n",
       "      <td>BATTERY - SIMPLE ASSAULT</td>\n",
       "      <td>...</td>\n",
       "      <td>AO</td>\n",
       "      <td>Adult Other</td>\n",
       "      <td>624.0</td>\n",
       "      <td>NaN</td>\n",
       "      <td>NaN</td>\n",
       "      <td>NaN</td>\n",
       "      <td>1000 S  BURLINGTON                   AV</td>\n",
       "      <td>NaN</td>\n",
       "      <td>34.0502</td>\n",
       "      <td>-118.2765</td>\n",
       "    </tr>\n",
       "    <tr>\n",
       "      <th>1</th>\n",
       "      <td>221809626</td>\n",
       "      <td>4/23/22 0:00</td>\n",
       "      <td>2022-04-22</td>\n",
       "      <td>2100</td>\n",
       "      <td>18</td>\n",
       "      <td>Southeast</td>\n",
       "      <td>1862</td>\n",
       "      <td>1</td>\n",
       "      <td>510</td>\n",
       "      <td>VEHICLE - STOLEN</td>\n",
       "      <td>...</td>\n",
       "      <td>IC</td>\n",
       "      <td>Invest Cont</td>\n",
       "      <td>510.0</td>\n",
       "      <td>NaN</td>\n",
       "      <td>NaN</td>\n",
       "      <td>NaN</td>\n",
       "      <td>SAN PEDRO                    ST</td>\n",
       "      <td>120TH                        ST</td>\n",
       "      <td>33.9237</td>\n",
       "      <td>-118.2696</td>\n",
       "    </tr>\n",
       "    <tr>\n",
       "      <th>2</th>\n",
       "      <td>221711121</td>\n",
       "      <td>7/10/22 0:00</td>\n",
       "      <td>2022-07-10</td>\n",
       "      <td>200</td>\n",
       "      <td>17</td>\n",
       "      <td>Devonshire</td>\n",
       "      <td>1781</td>\n",
       "      <td>1</td>\n",
       "      <td>230</td>\n",
       "      <td>ASSAULT WITH DEADLY WEAPON, AGGRAVATED ASSAULT</td>\n",
       "      <td>...</td>\n",
       "      <td>IC</td>\n",
       "      <td>Invest Cont</td>\n",
       "      <td>230.0</td>\n",
       "      <td>NaN</td>\n",
       "      <td>NaN</td>\n",
       "      <td>NaN</td>\n",
       "      <td>8800    OSO                          AV</td>\n",
       "      <td>NaN</td>\n",
       "      <td>34.2299</td>\n",
       "      <td>-118.5754</td>\n",
       "    </tr>\n",
       "    <tr>\n",
       "      <th>3</th>\n",
       "      <td>220805283</td>\n",
       "      <td>1/24/22 0:00</td>\n",
       "      <td>2022-01-22</td>\n",
       "      <td>1445</td>\n",
       "      <td>8</td>\n",
       "      <td>West LA</td>\n",
       "      <td>855</td>\n",
       "      <td>1</td>\n",
       "      <td>341</td>\n",
       "      <td>THEFT-GRAND ($950.01 &amp; OVER)EXCPT,GUNS,FOWL,LI...</td>\n",
       "      <td>...</td>\n",
       "      <td>IC</td>\n",
       "      <td>Invest Cont</td>\n",
       "      <td>341.0</td>\n",
       "      <td>NaN</td>\n",
       "      <td>NaN</td>\n",
       "      <td>NaN</td>\n",
       "      <td>1600    CAMDEN                       AV</td>\n",
       "      <td>NaN</td>\n",
       "      <td>34.0501</td>\n",
       "      <td>-118.4439</td>\n",
       "    </tr>\n",
       "    <tr>\n",
       "      <th>4</th>\n",
       "      <td>221821212</td>\n",
       "      <td>11/27/22 0:00</td>\n",
       "      <td>2022-11-27</td>\n",
       "      <td>1635</td>\n",
       "      <td>18</td>\n",
       "      <td>Southeast</td>\n",
       "      <td>1826</td>\n",
       "      <td>1</td>\n",
       "      <td>210</td>\n",
       "      <td>ROBBERY</td>\n",
       "      <td>...</td>\n",
       "      <td>IC</td>\n",
       "      <td>Invest Cont</td>\n",
       "      <td>210.0</td>\n",
       "      <td>NaN</td>\n",
       "      <td>NaN</td>\n",
       "      <td>NaN</td>\n",
       "      <td>91ST</td>\n",
       "      <td>COMPTON</td>\n",
       "      <td>33.9543</td>\n",
       "      <td>-118.2475</td>\n",
       "    </tr>\n",
       "  </tbody>\n",
       "</table>\n",
       "<p>5 rows × 28 columns</p>\n",
       "</div>"
      ],
      "text/plain": [
       "       DR_NO      Date Rptd   DATE OCC  TIME OCC  AREA   AREA NAME  \\\n",
       "0  220216262    9/8/22 0:00 2022-09-08      1445     2     Rampart   \n",
       "1  221809626   4/23/22 0:00 2022-04-22      2100    18   Southeast   \n",
       "2  221711121   7/10/22 0:00 2022-07-10       200    17  Devonshire   \n",
       "3  220805283   1/24/22 0:00 2022-01-22      1445     8     West LA   \n",
       "4  221821212  11/27/22 0:00 2022-11-27      1635    18   Southeast   \n",
       "\n",
       "   Rpt Dist No  Part 1-2  Crm Cd  \\\n",
       "0          275         2     624   \n",
       "1         1862         1     510   \n",
       "2         1781         1     230   \n",
       "3          855         1     341   \n",
       "4         1826         1     210   \n",
       "\n",
       "                                         Crm Cd Desc  ... Status  Status Desc  \\\n",
       "0                           BATTERY - SIMPLE ASSAULT  ...     AO  Adult Other   \n",
       "1                                   VEHICLE - STOLEN  ...     IC  Invest Cont   \n",
       "2     ASSAULT WITH DEADLY WEAPON, AGGRAVATED ASSAULT  ...     IC  Invest Cont   \n",
       "3  THEFT-GRAND ($950.01 & OVER)EXCPT,GUNS,FOWL,LI...  ...     IC  Invest Cont   \n",
       "4                                            ROBBERY  ...     IC  Invest Cont   \n",
       "\n",
       "  Crm Cd 1 Crm Cd 2  Crm Cd 3 Crm Cd 4  \\\n",
       "0    624.0      NaN       NaN      NaN   \n",
       "1    510.0      NaN       NaN      NaN   \n",
       "2    230.0      NaN       NaN      NaN   \n",
       "3    341.0      NaN       NaN      NaN   \n",
       "4    210.0      NaN       NaN      NaN   \n",
       "\n",
       "                                  LOCATION                     Cross Street  \\\n",
       "0  1000 S  BURLINGTON                   AV                              NaN   \n",
       "1          SAN PEDRO                    ST  120TH                        ST   \n",
       "2  8800    OSO                          AV                              NaN   \n",
       "3  1600    CAMDEN                       AV                              NaN   \n",
       "4                                     91ST                          COMPTON   \n",
       "\n",
       "       LAT       LON  \n",
       "0  34.0502 -118.2765  \n",
       "1  33.9237 -118.2696  \n",
       "2  34.2299 -118.5754  \n",
       "3  34.0501 -118.4439  \n",
       "4  33.9543 -118.2475  \n",
       "\n",
       "[5 rows x 28 columns]"
      ]
     },
     "execution_count": 26,
     "metadata": {},
     "output_type": "execute_result"
    }
   ],
   "source": [
    "crime_data.head()"
   ]
  },
  {
   "cell_type": "code",
   "execution_count": 6,
   "metadata": {},
   "outputs": [],
   "source": [
    "crime_data[\"DATE OCC\"]=pd.to_datetime(crime_data[\"DATE OCC\"])"
   ]
  },
  {
   "cell_type": "code",
   "execution_count": 25,
   "metadata": {},
   "outputs": [
    {
     "name": "stdout",
     "output_type": "stream",
     "text": [
      "<class 'pandas.core.frame.DataFrame'>\n",
      "Int64Index: 234310 entries, 0 to 234310\n",
      "Data columns (total 28 columns):\n",
      " #   Column          Non-Null Count   Dtype         \n",
      "---  ------          --------------   -----         \n",
      " 0   DR_NO           234310 non-null  int64         \n",
      " 1   Date Rptd       234310 non-null  object        \n",
      " 2   DATE OCC        234310 non-null  datetime64[ns]\n",
      " 3   TIME OCC        234310 non-null  int64         \n",
      " 4   AREA            234310 non-null  int64         \n",
      " 5   AREA NAME       234310 non-null  object        \n",
      " 6   Rpt Dist No     234310 non-null  int64         \n",
      " 7   Part 1-2        234310 non-null  int64         \n",
      " 8   Crm Cd          234310 non-null  int64         \n",
      " 9   Crm Cd Desc     234310 non-null  object        \n",
      " 10  Mocodes         202458 non-null  object        \n",
      " 11  Vict Age        234310 non-null  int64         \n",
      " 12  Vict Sex        204260 non-null  object        \n",
      " 13  Vict Descent    204261 non-null  object        \n",
      " 14  Premis Cd       234307 non-null  float64       \n",
      " 15  Premis Desc     234162 non-null  object        \n",
      " 16  Weapon Used Cd  77642 non-null   float64       \n",
      " 17  Weapon Desc     77642 non-null   object        \n",
      " 18  Status          234310 non-null  object        \n",
      " 19  Status Desc     234310 non-null  object        \n",
      " 20  Crm Cd 1        234307 non-null  float64       \n",
      " 21  Crm Cd 2        15943 non-null   float64       \n",
      " 22  Crm Cd 3        527 non-null     float64       \n",
      " 23  Crm Cd 4        13 non-null      float64       \n",
      " 24  LOCATION        234310 non-null  object        \n",
      " 25  Cross Street    34480 non-null   object        \n",
      " 26  LAT             234310 non-null  float64       \n",
      " 27  LON             234310 non-null  float64       \n",
      "dtypes: datetime64[ns](1), float64(8), int64(7), object(12)\n",
      "memory usage: 51.8+ MB\n"
     ]
    }
   ],
   "source": [
    "cleaned = crime_data.loc[crime_data[\"LAT\"]!=0,:]\n",
    "cleaned.info()\n",
    "crime_data = cleaned"
   ]
  },
  {
   "cell_type": "code",
   "execution_count": 27,
   "metadata": {},
   "outputs": [
    {
     "name": "stdout",
     "output_type": "stream",
     "text": [
      "<class 'pandas.core.frame.DataFrame'>\n",
      "Int64Index: 234310 entries, 0 to 234310\n",
      "Data columns (total 28 columns):\n",
      " #   Column          Non-Null Count   Dtype         \n",
      "---  ------          --------------   -----         \n",
      " 0   DR_NO           234310 non-null  int64         \n",
      " 1   Date Rptd       234310 non-null  object        \n",
      " 2   DATE OCC        234310 non-null  datetime64[ns]\n",
      " 3   TIME OCC        234310 non-null  int64         \n",
      " 4   AREA            234310 non-null  int64         \n",
      " 5   AREA NAME       234310 non-null  object        \n",
      " 6   Rpt Dist No     234310 non-null  int64         \n",
      " 7   Part 1-2        234310 non-null  int64         \n",
      " 8   Crm Cd          234310 non-null  int64         \n",
      " 9   Crm Cd Desc     234310 non-null  object        \n",
      " 10  Mocodes         202458 non-null  object        \n",
      " 11  Vict Age        234310 non-null  int64         \n",
      " 12  Vict Sex        204260 non-null  object        \n",
      " 13  Vict Descent    204261 non-null  object        \n",
      " 14  Premis Cd       234307 non-null  float64       \n",
      " 15  Premis Desc     234162 non-null  object        \n",
      " 16  Weapon Used Cd  77642 non-null   float64       \n",
      " 17  Weapon Desc     77642 non-null   object        \n",
      " 18  Status          234310 non-null  object        \n",
      " 19  Status Desc     234310 non-null  object        \n",
      " 20  Crm Cd 1        234307 non-null  float64       \n",
      " 21  Crm Cd 2        15943 non-null   float64       \n",
      " 22  Crm Cd 3        527 non-null     float64       \n",
      " 23  Crm Cd 4        13 non-null      float64       \n",
      " 24  LOCATION        234310 non-null  object        \n",
      " 25  Cross Street    34480 non-null   object        \n",
      " 26  LAT             234310 non-null  float64       \n",
      " 27  LON             234310 non-null  float64       \n",
      "dtypes: datetime64[ns](1), float64(8), int64(7), object(12)\n",
      "memory usage: 51.8+ MB\n"
     ]
    }
   ],
   "source": [
    "crime_data.info()"
   ]
  },
  {
   "cell_type": "code",
   "execution_count": null,
   "metadata": {},
   "outputs": [],
   "source": [
    "crime_data.columns"
   ]
  },
  {
   "cell_type": "code",
   "execution_count": null,
   "metadata": {},
   "outputs": [],
   "source": [
    "crime_data.info()"
   ]
  },
  {
   "cell_type": "code",
   "execution_count": null,
   "metadata": {},
   "outputs": [],
   "source": [
    "crime_status = crime_data[\"Status\"]\n",
    "crime_status.unique()\n",
    "crime_status.value_counts()"
   ]
  },
  {
   "cell_type": "code",
   "execution_count": null,
   "metadata": {},
   "outputs": [],
   "source": [
    "crime_status_desc = crime_data[\"Status Desc\"]\n",
    "crime_status_desc.value_counts()"
   ]
  },
  {
   "cell_type": "code",
   "execution_count": null,
   "metadata": {},
   "outputs": [],
   "source": [
    "crime_data[\"Vict Sex\"].value_counts()"
   ]
  },
  {
   "cell_type": "code",
   "execution_count": null,
   "metadata": {},
   "outputs": [],
   "source": [
    "crime_data[\"Vict Age\"].value_counts()"
   ]
  },
  {
   "cell_type": "code",
   "execution_count": null,
   "metadata": {},
   "outputs": [],
   "source": [
    "crime_data[\"Vict Age\"].mean()"
   ]
  },
  {
   "cell_type": "code",
   "execution_count": null,
   "metadata": {},
   "outputs": [],
   "source": [
    "zero_age = crime_data.loc[crime_data[\"Vict Age\"] == 0,:]\n",
    "zero_age.head()"
   ]
  },
  {
   "cell_type": "markdown",
   "metadata": {},
   "source": [
    "### Due to some reports containing a zero age, we have a few options to consider for the data.\n",
    "\n",
    "- Because of the sizable amount, we can replace all 0 values to a random range within the mean (30) like 28-32.\n",
    "- The option to outright discard the data is there, but losing 55955 data points along with crimes such as vehicular theft and burglary, it is a very big choice.\n",
    "- We can always just leave it at 0 and determine why it was reported as age 0. Possibly because there were multiple victims in the scene."
   ]
  },
  {
   "cell_type": "code",
   "execution_count": null,
   "metadata": {},
   "outputs": [],
   "source": [
    "crime_type = crime_data[\"Crm Cd\"]\n",
    "crime_type.unique()"
   ]
  },
  {
   "cell_type": "code",
   "execution_count": null,
   "metadata": {},
   "outputs": [],
   "source": [
    "crime_type.nunique()"
   ]
  },
  {
   "cell_type": "code",
   "execution_count": null,
   "metadata": {},
   "outputs": [],
   "source": [
    "crime_type.value_counts()"
   ]
  },
  {
   "cell_type": "code",
   "execution_count": null,
   "metadata": {},
   "outputs": [],
   "source": [
    "plt.figure(figsize=(20,20))\n",
    "plt.bar(crime_type.unique(),crime_type.value_counts())\n",
    "\n",
    "plt.show()"
   ]
  },
  {
   "cell_type": "code",
   "execution_count": 17,
   "metadata": {},
   "outputs": [],
   "source": [
    "locations_df = crime_data.loc[crime_data[\"LAT\"]!=0,[\"LAT\",\"LON\"]]"
   ]
  },
  {
   "cell_type": "code",
   "execution_count": 20,
   "metadata": {},
   "outputs": [
    {
     "data": {
      "text/html": [
       "<div>\n",
       "<style scoped>\n",
       "    .dataframe tbody tr th:only-of-type {\n",
       "        vertical-align: middle;\n",
       "    }\n",
       "\n",
       "    .dataframe tbody tr th {\n",
       "        vertical-align: top;\n",
       "    }\n",
       "\n",
       "    .dataframe thead th {\n",
       "        text-align: right;\n",
       "    }\n",
       "</style>\n",
       "<table border=\"1\" class=\"dataframe\">\n",
       "  <thead>\n",
       "    <tr style=\"text-align: right;\">\n",
       "      <th></th>\n",
       "      <th>LAT</th>\n",
       "      <th>LON</th>\n",
       "    </tr>\n",
       "  </thead>\n",
       "  <tbody>\n",
       "    <tr>\n",
       "      <th>0</th>\n",
       "      <td>34.0502</td>\n",
       "      <td>-118.2765</td>\n",
       "    </tr>\n",
       "    <tr>\n",
       "      <th>1</th>\n",
       "      <td>33.9237</td>\n",
       "      <td>-118.2696</td>\n",
       "    </tr>\n",
       "    <tr>\n",
       "      <th>2</th>\n",
       "      <td>34.2299</td>\n",
       "      <td>-118.5754</td>\n",
       "    </tr>\n",
       "    <tr>\n",
       "      <th>3</th>\n",
       "      <td>34.0501</td>\n",
       "      <td>-118.4439</td>\n",
       "    </tr>\n",
       "    <tr>\n",
       "      <th>4</th>\n",
       "      <td>33.9543</td>\n",
       "      <td>-118.2475</td>\n",
       "    </tr>\n",
       "  </tbody>\n",
       "</table>\n",
       "</div>"
      ],
      "text/plain": [
       "       LAT       LON\n",
       "0  34.0502 -118.2765\n",
       "1  33.9237 -118.2696\n",
       "2  34.2299 -118.5754\n",
       "3  34.0501 -118.4439\n",
       "4  33.9543 -118.2475"
      ]
     },
     "execution_count": 20,
     "metadata": {},
     "output_type": "execute_result"
    }
   ],
   "source": [
    "locations_df.head()"
   ]
  },
  {
   "cell_type": "code",
   "execution_count": 18,
   "metadata": {},
   "outputs": [
    {
     "data": {
      "text/html": [
       "<div>\n",
       "<style scoped>\n",
       "    .dataframe tbody tr th:only-of-type {\n",
       "        vertical-align: middle;\n",
       "    }\n",
       "\n",
       "    .dataframe tbody tr th {\n",
       "        vertical-align: top;\n",
       "    }\n",
       "\n",
       "    .dataframe thead th {\n",
       "        text-align: right;\n",
       "    }\n",
       "</style>\n",
       "<table border=\"1\" class=\"dataframe\">\n",
       "  <thead>\n",
       "    <tr style=\"text-align: right;\">\n",
       "      <th></th>\n",
       "      <th>LAT</th>\n",
       "      <th>LON</th>\n",
       "    </tr>\n",
       "  </thead>\n",
       "  <tbody>\n",
       "  </tbody>\n",
       "</table>\n",
       "</div>"
      ],
      "text/plain": [
       "Empty DataFrame\n",
       "Columns: [LAT, LON]\n",
       "Index: []"
      ]
     },
     "execution_count": 18,
     "metadata": {},
     "output_type": "execute_result"
    }
   ],
   "source": [
    "zero_coords = locations_df.loc[locations_df[\"LON\"] == 0,:]\n",
    "zero_coords.head()"
   ]
  },
  {
   "cell_type": "code",
   "execution_count": 13,
   "metadata": {},
   "outputs": [
    {
     "data": {
      "text/plain": [
       "array([34.0502, 33.9237, 34.2299, ..., 34.3003, 34.1862, 34.2916])"
      ]
     },
     "execution_count": 13,
     "metadata": {},
     "output_type": "execute_result"
    }
   ],
   "source": [
    "locations_df[\"LAT\"].()"
   ]
  },
  {
   "cell_type": "code",
   "execution_count": 22,
   "metadata": {},
   "outputs": [
    {
     "data": {
      "image/png": "[encoded data removed]",
      "text/plain": [
       "<Figure size 1080x1080 with 1 Axes>"
      ]
     },
     "metadata": {
      "needs_background": "light"
     },
     "output_type": "display_data"
    }
   ],
   "source": [
    "plt.figure(figsize=(15,15))\n",
    "plt.scatter(locations_df[\"LON\"],locations_df[\"LAT\"])\n",
    "plt.show()"
   ]
  },
  {
   "cell_type": "code",
   "execution_count": null,
   "metadata": {},
   "outputs": [],
   "source": [
    "crime_data[\"Date Rptd\"]"
   ]
  },
  {
   "cell_type": "code",
   "execution_count": null,
   "metadata": {},
   "outputs": [],
   "source": [
    "date = pd.to_datetime(crime_data[\"Date Rptd\"])\n",
    "date.info()"
   ]
  },
  {
   "cell_type": "code",
   "execution_count": null,
   "metadata": {},
   "outputs": [],
   "source": [
    "crime_data.info()"
   ]
  },
  {
   "cell_type": "code",
   "execution_count": null,
   "metadata": {},
   "outputs": [],
   "source": [
    "pd.to_datetime(crime_data[\"DATE OCC\"])\n",
    "#time = pd.to_datetime(crime_data[\"TIME OCC\"],format='%H:%M')"
   ]
  },
  {
   "cell_type": "code",
   "execution_count": null,
   "metadata": {},
   "outputs": [],
   "source": [
    "date.head()"
   ]
  },
  {
   "cell_type": "code",
   "execution_count": null,
   "metadata": {},
   "outputs": [],
   "source": [
    "time.head()"
   ]
  },
  {
   "cell_type": "code",
   "execution_count": null,
   "metadata": {},
   "outputs": [],
   "source": [
    "newtime=pd.to_datetime(crime_data[\"TIME OCC\"], format='%H%M').dt.time"
   ]
  },
  {
   "cell_type": "code",
   "execution_count": null,
   "metadata": {},
   "outputs": [],
   "source": [
    "crime_data[\"TIME OCC\"].value_counts()"
   ]
  },
  {
   "cell_type": "code",
   "execution_count": null,
   "metadata": {},
   "outputs": [],
   "source": []
  }
 ],
 "metadata": {
  "kernelspec": {
   "display_name": "Python 3 (ipykernel)",
   "language": "python",
   "name": "python3"
  },
  "language_info": {
   "codemirror_mode": {
    "name": "ipython",
    "version": 3
   },
   "file_extension": ".py",
   "mimetype": "text/x-python",
   "name": "python",
   "nbconvert_exporter": "python",
   "pygments_lexer": "ipython3",
   "version": "3.9.12"
  }
 },
 "nbformat": 4,
 "nbformat_minor": 2
}
